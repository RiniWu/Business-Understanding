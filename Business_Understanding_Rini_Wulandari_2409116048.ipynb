{
  "nbformat": 4,
  "nbformat_minor": 0,
  "metadata": {
    "colab": {
      "provenance": []
    },
    "kernelspec": {
      "name": "python3",
      "display_name": "Python 3"
    },
    "language_info": {
      "name": "python"
    }
  },
  "cells": [
    {
      "cell_type": "markdown",
      "source": [
        "##**BUSINESS UNDERSTANDING**"
      ],
      "metadata": {
        "id": "DT2B6d-s6x6j"
      }
    },
    {
      "cell_type": "markdown",
      "source": [
        "###**Business Objective**"
      ],
      "metadata": {
        "id": "INu8Zc7C7yRM"
      }
    },
    {
      "cell_type": "markdown",
      "source": [
        "Tujuan utama dari proyek ini adalah untuk meningkatkan pengalaman pelanggan dan kinerja platform pemesanan makanan online. Secara lebih spesifik dengan berusaha meningkatkan kepuasan pelanggan, meningkatkan layanan pengiriman dengan menganalisis umpan balik pelanggan dan status pesan, dan menggunakan data demografi dan preferensi pelanggan untuk menetapkan harga yang lebih relevan."
      ],
      "metadata": {
        "id": "krm8s1Di8DFr"
      }
    },
    {
      "cell_type": "markdown",
      "source": [
        "###**Assess Situation**"
      ],
      "metadata": {
        "id": "poHaO0mw-GiS"
      }
    },
    {
      "cell_type": "markdown",
      "source": [
        "Pada dataset ini memiliki kekuatan dengan informasi demografis yang lengkap dan umpan balik pelanggan yang memberikan wawasan tentang kepuasan dan kualitas layanan. Namun, ada keterbatasan seperti tidak adanya data tentang preferensi makanan atau interaksi pelanggan sebelumnya. Meskipun ada peluang untuk meningkatkan pengalaman pelanggan dengan rekomendasi produk yang disesuaikan berdasarkan demografi. Selain itu ancaman yang perlu diperhatikan adalah potensi kesalahan dalam analisis data yang dapat menghasilkan rekomendasi yang tidak akurat, serta perubahan preferensi pelanggan atau faktor eksternal lainnya yang dapat memengaruhi hasil analisis."
      ],
      "metadata": {
        "id": "q-k0NOFu-Vxw"
      }
    },
    {
      "cell_type": "markdown",
      "source": [
        "###**Data Mining Goals**"
      ],
      "metadata": {
        "id": "hgiKfr9ZDtAj"
      }
    },
    {
      "cell_type": "markdown",
      "source": [
        "Tujuan ini meliputi segmentasi pelanggan berdasarkan atribut demografis untuk menyesuaikan strategi pemasaran dan promosi, analisis kepuasan pelanggan dengan mengidentifikasi faktor-faktor yang mempengaruhi kepuasan, serta membangun model prediksi untuk status pesanan. Selain itu, tujuan lainnya adalah mengenali pola pembelian berdasarkan lokasi dan waktu, serta menganalisis data geografis untuk meningkatkan distribusi dan logistik pengiriman."
      ],
      "metadata": {
        "id": "JLZLfFb7FiRU"
      }
    },
    {
      "cell_type": "markdown",
      "source": [
        "###**Project Plan**"
      ],
      "metadata": {
        "id": "CdXudeH3GxZi"
      }
    },
    {
      "cell_type": "markdown",
      "source": [
        "Pada project plan ada beberapa tahapan yang bisa dilakukan yaitu, pertama dapat dilakukan dengan mengumpulkan dataset kemudian  dibersihkan untuk memastikan tidak ada nilai hilang atau duplikat dan memastikan konsistensi data. Kedua akan fokus pada eksplorasi data melalui analisis statistik dasar, korelasi antar atribut, dan visualisasi untuk mendapatkan wawasan lebih mendalam. Ketiga melibatkan pengembangan model data mining untuk memahami pola pembelian. Keempat, model akan dievaluasi dan divalidasi menggunakan metrik yang sesuai dan data uji untuk memastikan keakuratan dan konsistensi hasil. Terakhir, penyusunan laporan hasil analisis dan rekomendasi.\n",
        "\n",
        "Setiap langkah-langkah dalam proses ini dirancang untuk memastikan data yang akurat dan model yang dapat memberikan wawasan serta rekomendasi yang berguna bagi pelanggan."
      ],
      "metadata": {
        "id": "lHwP0LkSG9ss"
      }
    }
  ]
}